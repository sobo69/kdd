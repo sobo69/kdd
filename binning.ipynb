{
 "cells": [
  {
   "cell_type": "code",
   "execution_count": null,
   "id": "15f4febf-bc02-4fab-8e87-8b0f00f9fbeb",
   "metadata": {},
   "outputs": [],
   "source": [
    "import numpy as np\n",
    "import matplotlib.pyplot as plt\n",
    "from sklearn.datasets import load_iris\n",
    "\n",
    "data = np.sort(load_iris().data[:, 0])\n",
    "m = 3  \n",
    "\n",
    "\n",
    "freq_bins = [data[i*len(data)//m:(i+1)*len(data)//m] \n",
    "             for i in range(m)]\n",
    "\n",
    "bins = np.linspace(data.min(), data.max(), m+1)\n",
    "\n",
    "width_bins = [data[(data >= bins[i]) & (data < bins[i+1])] \n",
    "              for i in range(m)]\n",
    "\n",
    "print(\"Equal Frequency Binning:\", freq_bins)\n",
    "print(\"\\nEqual Width Binning:\", width_bins)\n",
    "\n",
    "\n",
    "fig, ax = plt.subplots(1, 2)\n",
    "titles = [\"Equal Frequency Binning\", \"Equal Width Binning\"]\n",
    "\n",
    "\n",
    "for a, b, t in zip(ax, [freq_bins, width_bins], titles):\n",
    "    [a.bar([i+1]*len(bin), bin) for i, bin in enumerate(b)]  \n",
    "    a.set_title(t) \n",
    "\n",
    "\n",
    "plt.tight_layout()\n",
    "plt.show()\n"
   ]
  }
 ],
 "metadata": {
  "kernelspec": {
   "display_name": "Python 3 (ipykernel)",
   "language": "python",
   "name": "python3"
  },
  "language_info": {
   "codemirror_mode": {
    "name": "ipython",
    "version": 3
   },
   "file_extension": ".py",
   "mimetype": "text/x-python",
   "name": "python",
   "nbconvert_exporter": "python",
   "pygments_lexer": "ipython3",
   "version": "3.13.0"
  }
 },
 "nbformat": 4,
 "nbformat_minor": 5
}
