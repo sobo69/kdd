{
 "cells": [
  {
   "cell_type": "code",
   "execution_count": 1,
   "id": "40429a8a-71bd-4648-831e-9a49fe14f0cb",
   "metadata": {},
   "outputs": [
    {
     "name": "stdout",
     "output_type": "stream",
     "text": [
      "Original shape: (150, 4)\n",
      "After removing outliers: (149, 4)\n",
      "   sepal length (cm)  sepal width (cm)  petal length (cm)  petal width (cm)\n",
      "0                5.1               3.5                1.4               0.2\n",
      "1                4.9               3.0                1.4               0.2\n",
      "2                4.7               3.2                1.3               0.2\n",
      "3                4.6               3.1                1.5               0.2\n",
      "4                5.0               3.6                1.4               0.2\n"
     ]
    }
   ],
   "source": [
    "import numpy as np\n",
    "import pandas as pd\n",
    "from scipy.stats import zscore\n",
    "from sklearn.datasets import load_iris\n",
    "\n",
    "\n",
    "iris = load_iris()\n",
    "df = pd.DataFrame(data=iris.data, columns=iris.feature_names)\n",
    "\n",
    "\n",
    "z_scores = np.abs(zscore(df))\n",
    "threshold = 3\n",
    "filtered_entries = (z_scores < threshold).all(axis=1)\n",
    "df_clean = df[filtered_entries]\n",
    "\n",
    "print(\"Original shape:\", df.shape)\n",
    "print(\"After removing outliers:\", df_clean.shape)\n",
    "\n",
    "print(df_clean.head())"
   ]
  },
  {
   "cell_type": "code",
   "execution_count": 2,
   "id": "64ce6525-4449-43c1-8e3c-c87b637bf656",
   "metadata": {},
   "outputs": [],
   "source": [
    "\n",
    "import pandas as pd\n",
    "import numpy as np\n",
    "import matplotlib.pyplot as plt\n",
    "import seaborn as sns\n",
    "\n",
    "file_path = \"Titanic-Dataset.csv\"\n",
    "titanic=pd.read_csv(file_path)\n",
    "\n",
    "\n",
    "print(titanic.isnull().sum())\n",
    "\n",
    "\n",
    "titanic['Age'].fillna(titanic['Age'].mean())\n",
    "titanic['Cabin'].fillna(titanic['Cabin'].mode()[0])\n",
    "titanic['Embarked'].fillna(titanic['Embarked'].mode()[0])\n",
    "\n",
    "sns.boxplot(x=titanic['Fare'])\n",
    "plt.show()\n",
    "\n",
    "\n",
    "q1, q3 = np.percentile(titanic['Fare'], [25, 75])\n",
    "iqr = q3 - q1\n",
    "lower_bound = q1 - 1.5 * iqr\n",
    "upper_bound = q3 + 1.5 * iqr\n",
    "\n",
    "print(\"IQR:(Q3 - Q1)\",iqr)\n",
    "print(\"Q1\",q1)\n",
    "print(\"Q3\",q3)\n",
    "print(\"Lower Bound:\",lower_bound)\n",
    "print(\"Upper Bound:\",upper_bound)\n",
    "\n",
    "\n",
    "titanic = titanic[(titanic['Fare'] >= lower_bound) & (titanic['Fare'] <= upper_bound)]\n",
    "\n",
    "\n",
    "sns.boxplot(x=titanic['Fare'])\n",
    "plt.show()\n"
   ]
  }
 ],
 "metadata": {
  "kernelspec": {
   "display_name": "Python 3 (ipykernel)",
   "language": "python",
   "name": "python3"
  },
  "language_info": {
   "codemirror_mode": {
    "name": "ipython",
    "version": 3
   },
   "file_extension": ".py",
   "mimetype": "text/x-python",
   "name": "python",
   "nbconvert_exporter": "python",
   "pygments_lexer": "ipython3",
   "version": "3.13.0"
  }
 },
 "nbformat": 4,
 "nbformat_minor": 5
}
