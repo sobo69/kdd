{
 "cells": [
  {
   "cell_type": "code",
   "execution_count": 1,
   "id": "722cf458-717c-4b05-b5dd-1a1c25950718",
   "metadata": {},
   "outputs": [
    {
     "name": "stdout",
     "output_type": "stream",
     "text": [
      "Frequent Itemsets:\n",
      " support itemsets\n",
      "0.777778      (1)\n",
      "0.666667      (0)\n",
      "0.666667      (2)\n",
      "0.444444   (0, 1)\n",
      "0.444444   (0, 2)\n",
      "0.444444   (1, 2)\n",
      "\n",
      "Association Rules:\n",
      "antecedents consequents  antecedent support  consequent support  support  confidence     lift  representativity  leverage  conviction  zhangs_metric  jaccard  certainty  kulczynski\n",
      "        (0)         (1)            0.666667            0.777778 0.444444    0.666667 0.857143               1.0 -0.074074    0.666667      -0.333333 0.444444  -0.500000    0.619048\n",
      "        (1)         (0)            0.777778            0.666667 0.444444    0.571429 0.857143               1.0 -0.074074    0.777778      -0.428571 0.444444  -0.285714    0.619048\n",
      "        (0)         (2)            0.666667            0.666667 0.444444    0.666667 1.000000               1.0  0.000000    1.000000       0.000000 0.500000   0.000000    0.666667\n",
      "        (2)         (0)            0.666667            0.666667 0.444444    0.666667 1.000000               1.0  0.000000    1.000000       0.000000 0.500000   0.000000    0.666667\n",
      "        (1)         (2)            0.777778            0.666667 0.444444    0.571429 0.857143               1.0 -0.074074    0.777778      -0.428571 0.444444  -0.285714    0.619048\n",
      "        (2)         (1)            0.666667            0.777778 0.444444    0.666667 0.857143               1.0 -0.074074    0.666667      -0.333333 0.444444  -0.500000    0.619048\n"
     ]
    }
   ],
   "source": [
    "from mlxtend.preprocessing import TransactionEncoder\n",
    "from mlxtend.frequent_patterns import fpgrowth, association_rules\n",
    "import pandas as pd\n",
    "\n",
    "# Dataset and transformation\n",
    "data = [['A', 'B', 'E'], ['B', 'D'], ['B', 'C'], ['A', 'B', 'D'], ['A', 'C'], ['B', 'C'], ['A', 'C'], ['A', 'B', 'C', 'E'], ['A', 'B', 'C']]\n",
    "encoder = TransactionEncoder()\n",
    "df = pd.DataFrame(encoder.fit_transform(data), columns=encoder.columns_)\n",
    "\n",
    "# Find frequent itemsets and association rules\n",
    "frequent_itemsets = fpgrowth(df, min_support=0.33, use_colnames=True)\n",
    "rules = association_rules(frequent_itemsets, metric=\"confidence\", min_threshold=0.5)\n",
    "\n",
    "# Display results\n",
    "print(\"Frequent Itemsets:\", frequent_itemsets.to_string(index=False))\n",
    "print(\"\\nAssociation Rules:\", rules.to_string(index=False))"
   ]
  },
  {
   "cell_type": "code",
   "execution_count": null,
   "id": "6b35e393-f36e-4858-bab9-c66d232c588c",
   "metadata": {},
   "outputs": [],
   "source": []
  }
 ],
 "metadata": {
  "kernelspec": {
   "display_name": "Python 3 (ipykernel)",
   "language": "python",
   "name": "python3"
  },
  "language_info": {
   "codemirror_mode": {
    "name": "ipython",
    "version": 3
   },
   "file_extension": ".py",
   "mimetype": "text/x-python",
   "name": "python",
   "nbconvert_exporter": "python",
   "pygments_lexer": "ipython3",
   "version": "3.13.0"
  }
 },
 "nbformat": 4,
 "nbformat_minor": 5
}
